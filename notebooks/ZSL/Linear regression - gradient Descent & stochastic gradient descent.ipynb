{
 "cells": [
  {
   "cell_type": "code",
   "execution_count": 1,
   "metadata": {},
   "outputs": [],
   "source": [
    "import pdb\n",
    "import numpy as np\n",
    "from matplotlib import pyplot as plt\n",
    "import random"
   ]
  },
  {
   "cell_type": "code",
   "execution_count": 2,
   "metadata": {},
   "outputs": [],
   "source": [
    "def generateSample(N):\n",
    "    \n",
    "    # add your implementation\n",
    "    \n",
    "    # generate X with shape (N,1) \n",
    "    # append ones to each x in X, then X will be of shape (N,2) \n",
    "    # generate Y with shape (N,1)\n",
    "    X = np.append(np.ones((N, 1)), np.random.randn(N, 1), axis = 1)\n",
    "    Y = np.random.randn(N, 1) + X[:, 1][:, np.newaxis]\n",
    "    return X, Y"
   ]
  },
  {
   "cell_type": "code",
   "execution_count": 3,
   "metadata": {},
   "outputs": [],
   "source": [
    "def fitModel_gradient(X, Y):\n",
    "    \n",
    "    # add your implementation\n",
    "    \n",
    "    # initialize weights W with shape (2,1) \n",
    "    # foreach epoch\n",
    "    # 1. Calculate predictions P = X * W\n",
    "    # 2. Calculate error = P - Y \n",
    "    # 3. Calculate gradient = X.T * error / N\n",
    "    # 4. Update weights  W = W - lr * gradient\n",
    "    lr = 1#0.001\n",
    "    W = np.zeros((2, 1))\n",
    "    P = X @ W\n",
    "    error = P - Y\n",
    "    gradient = X.T @ error / N\n",
    "    W = W - lr * gradient\n",
    "    return W\n",
    "    \n",
    "def fitModel_stochastic_gradient(X, Y):\n",
    "\n",
    "    # add your implementation\n",
    "    \n",
    "    # initialize weights W with shape (2,1)\n",
    "    # foreach epoch\n",
    "    # Shuffle training samples (careful to shuffle X and Y in the same order!)\n",
    "    # foreach sample xi,yi\n",
    "    # 1. Calculate sample prediction pi =W0+W1 xi\n",
    "    # 2. Calculate error = pi - yi\n",
    "    # 3. Calculate gradient = xi * error \n",
    "    # 4. Update weights  W = W - lr * gradient\n",
    "    N = X.shape[0]\n",
    "    lr = 0.001\n",
    "    num_epochs = 100\n",
    "    W = np.zeros((2, 1))\n",
    "    for epoch in range(num_epochs):\n",
    "        s = np.arange(X.shape[0])\n",
    "        s = np.random.shuffle(s)\n",
    "        X = X[s].squeeze()\n",
    "        Y = Y[s].squeeze()\n",
    "        for i in range(X.shape[0]):\n",
    "            x = np.expand_dims(X[i], axis = 1)\n",
    "            y = np.expand_dims(Y[i], axis = 1)\n",
    "            #pdb.set_trace()\n",
    "            error = (np.dot(W.T, x) - y).squeeze()\n",
    "            gradient = x * error           \n",
    "            W = W - lr * gradient\n",
    "    return W"
   ]
  },
  {
   "cell_type": "code",
   "execution_count": 4,
   "metadata": {},
   "outputs": [],
   "source": [
    "def plotModel(x, y, w):\n",
    "    plt.plot(x[:,1], y, \"x\")\n",
    "    plt.plot(x[:,1], np.dot(x, w), \"r-\")\n",
    "    plt.show()"
   ]
  },
  {
   "cell_type": "code",
   "execution_count": 5,
   "metadata": {},
   "outputs": [
    {
     "name": "stderr",
     "output_type": "stream",
     "text": [
      "/usr/local/lib/python3.6/dist-packages/ipykernel_launcher.py:42: DeprecationWarning: Both axis > a.ndim and axis < -a.ndim - 1 are deprecated and will raise an AxisError in the future.\n"
     ]
    },
    {
     "data": {
      "image/png": "[encoded data removed]",
      "text/plain": [
       "<Figure size 432x288 with 1 Axes>"
      ]
     },
     "metadata": {
      "needs_background": "light"
     },
     "output_type": "display_data"
    },
    {
     "data": {
      "image/png": "[encoded data removed]",
      "text/plain": [
       "<Figure size 432x288 with 1 Axes>"
      ]
     },
     "metadata": {
      "needs_background": "light"
     },
     "output_type": "display_data"
    }
   ],
   "source": [
    "N = 100\n",
    "X, Y = generateSample(N)\n",
    "w_gd = fitModel_gradient(X, Y)\n",
    "w_sgd = fitModel_stochastic_gradient(X, Y)\n",
    "plotModel(X,Y,w_gd)\n",
    "plotModel(X,Y,w_sgd)"
   ]
  },
  {
   "cell_type": "code",
   "execution_count": null,
   "metadata": {},
   "outputs": [],
   "source": []
  }
 ],
 "metadata": {
  "kernelspec": {
   "display_name": "Python 3",
   "language": "python",
   "name": "python3"
  },
  "language_info": {
   "codemirror_mode": {
    "name": "ipython",
    "version": 3
   },
   "file_extension": ".py",
   "mimetype": "text/x-python",
   "name": "python",
   "nbconvert_exporter": "python",
   "pygments_lexer": "ipython3",
   "version": "3.6.7"
  }
 },
 "nbformat": 4,
 "nbformat_minor": 2
}
