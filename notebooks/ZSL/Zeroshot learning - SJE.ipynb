{
 "cells": [
  {
   "cell_type": "markdown",
   "metadata": {},
   "source": [
    "# Zero-shot learning for image classification "
   ]
  },
  {
   "cell_type": "markdown",
   "metadata": {},
   "source": [
    "original data and code can be found here https://www.mpi-inf.mpg.de/departments/computer-vision-and-multimodal-computing/research/zero-shot-learning/zero-shot-learning-the-good-the-bad-and-the-ugly/)\n",
    "[Akata, et al. CVPR2015]\n",
    "[Xian, et al. CVPR2017]"
   ]
  },
  {
   "cell_type": "markdown",
   "metadata": {},
   "source": [
    "Download prepared data of Animal with attributes from: \n",
    "https://drive.google.com/open?id=1ErU12Q2sHhB2Lb7NCQuan0K3qXP78RJj"
   ]
  },
  {
   "cell_type": "code",
   "execution_count": 1,
   "metadata": {},
   "outputs": [],
   "source": [
    "import pdb\n",
    "import time\n",
    "import numpy as np\n",
    "from livelossplot import PlotLosses"
   ]
  },
  {
   "cell_type": "code",
   "execution_count": 2,
   "metadata": {},
   "outputs": [],
   "source": [
    "# load prepared data \n",
    "your_path_to_data_dict= '/home/SharedFolder/git/Nour-small-samples/notebooks/ZSL/Data/data_dict.npz' # PATH TO DATA\n",
    "data_dict = np.load(your_path_to_data_dict,encoding = 'latin1')['data'].item()\n",
    "\n",
    "tr_theta_x = data_dict['tr_theta_x'] # training image features extracted from deep CNN\n",
    "tr_labels = data_dict['tr_labels'] # training image labels as indices matching class embeddings and names\n",
    "val_theta_x = data_dict['val_theta_x']# validation image features extracted from deep CNN\n",
    "val_labels = data_dict['val_labels'] # validation image labels as indices matching class embeddings and names\n",
    "test_theta_x = data_dict['test_theta_x'] # test image features extracted from deep CNN\n",
    "test_labels = data_dict['test_labels'] # test image labels as indices matching class embeddings and names\n",
    "\n",
    "class_embeddings = data_dict['phi_y'] # class attributes vectors provided by the original dataset AWA\n",
    "\n",
    "class_names = data_dict['class_name'] # class names in the same order as embeddings "
   ]
  },
  {
   "cell_type": "code",
   "execution_count": 3,
   "metadata": {
    "scrolled": true
   },
   "outputs": [
    {
     "data": {
      "text/plain": [
       "50"
      ]
     },
     "execution_count": 3,
     "metadata": {},
     "output_type": "execute_result"
    }
   ],
   "source": [
    "# print training, validation, and test class names\n",
    "# note that class_embeddings and class_names \n",
    "len(class_names)\n",
    "# add your implementation   "
   ]
  },
  {
   "cell_type": "code",
   "execution_count": 4,
   "metadata": {},
   "outputs": [
    {
     "data": {
      "text/plain": [
       "array(['antelope', 'grizzly+bear', 'killer+whale', 'persian+cat',\n",
       "       'german+shepherd', 'siamese+cat', 'skunk', 'tiger', 'hippopotamus',\n",
       "       'spider+monkey', 'humpback+whale', 'elephant', 'fox', 'squirrel',\n",
       "       'rhinoceros', 'wolf', 'chihuahua', 'weasel', 'otter', 'buffalo',\n",
       "       'zebra', 'pig', 'lion', 'mouse', 'polar+bear', 'collie', 'cow'],\n",
       "      dtype='<U15')"
      ]
     },
     "execution_count": 4,
     "metadata": {},
     "output_type": "execute_result"
    }
   ],
   "source": [
    "np.array(class_names)[list(set(tr_labels))]"
   ]
  },
  {
   "cell_type": "code",
   "execution_count": 5,
   "metadata": {},
   "outputs": [
    {
     "data": {
      "text/plain": [
       "array(['beaver', 'dalmatian', 'giant+panda', 'deer', 'mole', 'leopard',\n",
       "       'moose', 'raccoon', 'gorilla', 'ox', 'chimpanzee', 'hamster',\n",
       "       'rabbit'], dtype='<U15')"
      ]
     },
     "execution_count": 5,
     "metadata": {},
     "output_type": "execute_result"
    }
   ],
   "source": [
    "np.array(class_names)[list(set(val_labels))]"
   ]
  },
  {
   "cell_type": "code",
   "execution_count": 6,
   "metadata": {},
   "outputs": [
    {
     "data": {
      "text/plain": [
       "array(['rat', 'horse', 'blue+whale', 'bobcat', 'walrus', 'dolphin',\n",
       "       'sheep', 'seal', 'bat', 'giraffe'], dtype='<U15')"
      ]
     },
     "execution_count": 6,
     "metadata": {},
     "output_type": "execute_result"
    }
   ],
   "source": [
    "np.array(class_names)[list(set(test_labels))]"
   ]
  },
  {
   "cell_type": "code",
   "execution_count": 7,
   "metadata": {},
   "outputs": [
    {
     "data": {
      "text/plain": [
       "(20218, 2048)"
      ]
     },
     "execution_count": 7,
     "metadata": {},
     "output_type": "execute_result"
    }
   ],
   "source": [
    "tr_theta_x.shape"
   ]
  },
  {
   "cell_type": "code",
   "execution_count": 8,
   "metadata": {},
   "outputs": [],
   "source": [
    "def l2_norm(x):\n",
    "    return x / (np.linalg.norm(x) + 10e-6)\n",
    "\n",
    "def train(X, Y, LR, num_epochs, W = None):\n",
    "    \n",
    "    # add your implementation\n",
    "    \n",
    "    ####### use SGD to minimize SJE loss ######### \n",
    "    # Initialize W (DxE)\n",
    "    # foreach epoch \n",
    "        # Shuffle training samples\n",
    "        # foreach sample (xi, yi)\n",
    "            # 1. scoretrue =  𝛳(xi) * WT * class_embedding(yi)\n",
    "            ### find the label that causes the maximum loss ### \n",
    "            # 2. lossmax= -1,  ymax = -1\n",
    "            # foreach training label y_train  \n",
    "                # 1. score =  𝛳(xi) * WT * class_embedding(y_train)\n",
    "                # 2. loss = Δ(y_train,yi) + score - scoretrue\n",
    "                # 3. if loss > lossmax --> update lossmax and ymax\n",
    "            # 4. if ymax ≠ ytrue --> W = W - lr * 𝛳(xi) [class_embedding(yi) - class_embedding(ymax)]\n",
    "    liveloss = PlotLosses()\n",
    "    running_loss = 0\n",
    "    \n",
    "    W = np.ones((X.shape[1], class_embeddings.shape[1]))\n",
    "    for epoch in range(num_epochs):\n",
    "        randomize = np.arange(len(X))\n",
    "        np.random.shuffle(randomize)\n",
    "        X = X[randomize]\n",
    "        Y = Y[randomize]\n",
    "        for i in range(X.shape[0]):\n",
    "            x_i = X[i, :]\n",
    "            phi_yi = class_embeddings[Y[i]]\n",
    "            \n",
    "            #scoretrue = np.dot(np.dot(x_i.T, W), phi_yi)\n",
    "            scoretrue = np.dot(l2_norm(np.dot(x_i.T, W)), phi_yi)\n",
    "            \n",
    "            lossmax = -1\n",
    "            ymax = -1\n",
    "            for j in np.unique(tr_labels):\n",
    "                \n",
    "                #score = np.dot(np.dot(x_i.T, W), class_embeddings[j, :])\n",
    "                score = np.dot(l2_norm(np.dot(x_i.T, W)), class_embeddings[j, :])\n",
    "                \n",
    "                loss = (0 if j == Y[i] else 1) + score - scoretrue\n",
    "                if loss > lossmax:\n",
    "                    lossmax = loss\n",
    "                    ymax = j                                                \n",
    "            if ymax != Y[i]:\n",
    "                helper = np.expand_dims(class_embeddings[ymax, :] - phi_yi, axis = 0)\n",
    "                W -= lr * (np.expand_dims(x_i, axis = 1) @ helper)\n",
    "            \n",
    "            running_loss += lossmax\n",
    "        liveloss.update({\"loss\": running_loss / X.shape[0]})\n",
    "        liveloss.draw()\n",
    "        running_loss = 0\n",
    "        \n",
    "    return W"
   ]
  },
  {
   "cell_type": "code",
   "execution_count": 9,
   "metadata": {},
   "outputs": [],
   "source": [
    "def predict(x,test_class_indices,W):\n",
    "    \n",
    "    # add your implementation\n",
    "    \n",
    "    #  max_score = -1,  ymax = -1\n",
    "    # foreach label in test_class_indices for i in test_class_indices: \n",
    "        # score =  𝛳(xi) * WT *𝜙(label) \n",
    "        # if score > max_score --> update max_score and ymax\n",
    "    max_score = -1\n",
    "    ymax = -1\n",
    "    for i in test_class_indices:\n",
    "        \n",
    "        #score = x @ W @ class_embeddings[i]\n",
    "        score = l2_norm(x @ W) @ class_embeddings[i]\n",
    "        \n",
    "        if score > max_score:\n",
    "            max_score = score\n",
    "            ymax = i\n",
    "    return ymax"
   ]
  },
  {
   "cell_type": "code",
   "execution_count": 10,
   "metadata": {},
   "outputs": [],
   "source": [
    "def evaluate(X,Y,test_class_indices,W):\n",
    "    \n",
    "    # add your implementation\n",
    "    \n",
    "    # correct_pred = 0\n",
    "    # foreach sample (xi, ytrue)\n",
    "        # pred_label = predict(xi,test_class_indices,W)\n",
    "        # if pred_label == ytrue:\n",
    "            # correct_pred += 1\n",
    "    # acc = correct_pred / size of test set\n",
    "    correct_pred = 0\n",
    "    for i in range(X.shape[0]):\n",
    "        pred_label = predict(X[i, :], test_class_indices, W)\n",
    "        if pred_label == Y[i]:\n",
    "            correct_pred += 1\n",
    "    acc = correct_pred / X.shape[0]\n",
    "    return acc"
   ]
  },
  {
   "cell_type": "code",
   "execution_count": 11,
   "metadata": {},
   "outputs": [
    {
     "data": {
      "image/png": "[encoded data removed]",
      "text/plain": [
       "<Figure size 864x576 with 1 Axes>"
      ]
     },
     "metadata": {
      "needs_background": "light"
     },
     "output_type": "display_data"
    },
    {
     "name": "stdout",
     "output_type": "stream",
     "text": [
      "loss:\n",
      "training   (min:    0.831, max:    1.007, cur:    0.831)\n",
      "Trained 50 epochs in 3141.86s ... accuracy = 0.4513\n"
     ]
    }
   ],
   "source": [
    "tic = time.time()\n",
    "lr = 0.1\n",
    "num_epochs = 50\n",
    "W = train(tr_theta_x, tr_labels, LR = lr, num_epochs = num_epochs)\n",
    "print(f'Trained {num_epochs} epochs in {(time.time() - tic):.2f}s ... accuracy = {evaluate(test_theta_x, test_labels, np.unique(test_labels), W):.4f}')"
   ]
  },
  {
   "cell_type": "code",
   "execution_count": null,
   "metadata": {},
   "outputs": [],
   "source": []
  }
 ],
 "metadata": {
  "kernelspec": {
   "display_name": "Python 3",
   "language": "python",
   "name": "python3"
  },
  "language_info": {
   "codemirror_mode": {
    "name": "ipython",
    "version": 3
   },
   "file_extension": ".py",
   "mimetype": "text/x-python",
   "name": "python",
   "nbconvert_exporter": "python",
   "pygments_lexer": "ipython3",
   "version": "3.6.7"
  }
 },
 "nbformat": 4,
 "nbformat_minor": 2
}
