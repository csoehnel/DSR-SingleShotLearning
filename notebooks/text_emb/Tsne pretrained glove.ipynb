{
 "cells": [
  {
   "cell_type": "markdown",
   "metadata": {},
   "source": [
    "# TSNE of pretrained Glove model on wiki"
   ]
  },
  {
   "cell_type": "markdown",
   "metadata": {},
   "source": [
    "1. pip install gensim, tsne, bokehe\n",
    "3. Download pretrained glove model from https://nlp.stanford.edu/projects/glove/\n",
    "4. load model in gensim (faster loading)\n",
    "4. tsne \n",
    "5. plot with bokeh"
   ]
  },
  {
   "cell_type": "code",
   "execution_count": 3,
   "metadata": {},
   "outputs": [],
   "source": [
    "# imports\n",
    "from tsne import bh_sne\n",
    "from bokeh.plotting import figure, output_file, show, ColumnDataSource\n",
    "from bokeh.models import HoverTool, BoxSelectTool\n",
    "import numpy as np\n",
    "from gensim.models import KeyedVectors\n",
    "import datetime"
   ]
  },
  {
   "cell_type": "code",
   "execution_count": 4,
   "metadata": {},
   "outputs": [
    {
     "name": "stdout",
     "output_type": "stream",
     "text": [
      "0:01:44.104396\n"
     ]
    }
   ],
   "source": [
    "# to load a pre-trained model from .txt, make sure you add 400000 300 as first line\n",
    "# you can also set a limit of the vocabulary in case you don't need all\n",
    "st = datetime.datetime.now()\n",
    "word_vectors = KeyedVectors.load_word2vec_format('glove/glove.6B.300d.txt',binary=False)\n",
    "print(f\"{datetime.datetime.now()-st}\")"
   ]
  },
  {
   "cell_type": "code",
   "execution_count": 5,
   "metadata": {},
   "outputs": [],
   "source": [
    "# # quicker loading\n",
    "# force the unit-normalization, destructively in-place \n",
    "word_vectors.init_sims(replace=True) \n",
    "# save in binary format\n",
    "word_vectors.save('glove/glove.6B.300d-gensim.bin')"
   ]
  },
  {
   "cell_type": "code",
   "execution_count": 6,
   "metadata": {},
   "outputs": [
    {
     "name": "stdout",
     "output_type": "stream",
     "text": [
      "{datetime.datetime.now()-st}\n"
     ]
    },
    {
     "name": "stderr",
     "output_type": "stream",
     "text": [
      "/usr/local/lib/python3.6/dist-packages/ipykernel_launcher.py:4: DeprecationWarning: Call to deprecated `syn0` (Attribute will be removed in 4.0.0, use self.vectors instead).\n",
      "  after removing the cwd from sys.path.\n",
      "/usr/local/lib/python3.6/dist-packages/ipykernel_launcher.py:4: DeprecationWarning: Call to deprecated `syn0norm` (Attribute will be removed in 4.0.0, use self.vectors_norm instead).\n",
      "  after removing the cwd from sys.path.\n"
     ]
    }
   ],
   "source": [
    "# # load from binary\n",
    "st = datetime.datetime.now()\n",
    "glove_model = KeyedVectors.load('glove/glove.6B.300d-gensim.bin', mmap='r') # memory-mapped from disk\n",
    "glove_model.syn0norm = glove_model.syn0  # prevent recalc of normed vectors\n",
    "print(\"{datetime.datetime.now()-st}\")\n",
    "# # for more details check this post https://stackoverflow.com/questions/42986405/how-to-speed-up-gensim-word2vec-model-load-time"
   ]
  },
  {
   "cell_type": "code",
   "execution_count": 7,
   "metadata": {},
   "outputs": [
    {
     "data": {
      "text/plain": [
       "[('elizabeth', 0.6771447658538818),\n",
       " ('princess', 0.635676383972168),\n",
       " ('king', 0.6336469650268555),\n",
       " ('monarch', 0.5814188122749329),\n",
       " ('royal', 0.543052613735199),\n",
       " ('majesty', 0.5350357294082642),\n",
       " ('victoria', 0.5239557027816772),\n",
       " ('throne', 0.5097099542617798),\n",
       " ('lady', 0.5045416355133057),\n",
       " ('crown', 0.49980056285858154)]"
      ]
     },
     "execution_count": 7,
     "metadata": {},
     "output_type": "execute_result"
    }
   ],
   "source": [
    "# sanity check\n",
    "glove_model.most_similar('queen')"
   ]
  },
  {
   "cell_type": "code",
   "execution_count": 8,
   "metadata": {},
   "outputs": [
    {
     "data": {
      "text/plain": [
       "[('javascript', 0.6667327880859375),\n",
       " ('scripting', 0.5983599424362183),\n",
       " ('perl', 0.5901949405670166),\n",
       " ('mysql', 0.5828666090965271),\n",
       " ('server-side', 0.5826088190078735),\n",
       " ('c++', 0.5619826316833496),\n",
       " ('runtime', 0.5475314855575562),\n",
       " ('open-source', 0.5299729704856873),\n",
       " ('sql', 0.521233320236206),\n",
       " ('backend', 0.5180889368057251)]"
      ]
     },
     "execution_count": 8,
     "metadata": {},
     "output_type": "execute_result"
    }
   ],
   "source": [
    "glove_model.most_similar('php')"
   ]
  },
  {
   "cell_type": "code",
   "execution_count": 9,
   "metadata": {},
   "outputs": [
    {
     "name": "stderr",
     "output_type": "stream",
     "text": [
      "/usr/local/lib/python3.6/dist-packages/ipykernel_launcher.py:1: DeprecationWarning: Call to deprecated `syn0norm` (Attribute will be removed in 4.0.0, use self.vectors_norm instead).\n",
      "  \"\"\"Entry point for launching an IPython kernel.\n"
     ]
    },
    {
     "data": {
      "text/plain": [
       "(400000, 300)"
      ]
     },
     "execution_count": 9,
     "metadata": {},
     "output_type": "execute_result"
    }
   ],
   "source": [
    "vectors = np.array(glove_model.syn0norm,dtype='float')\n",
    "vectors.shape"
   ]
  },
  {
   "cell_type": "code",
   "execution_count": 10,
   "metadata": {},
   "outputs": [],
   "source": [
    "# perform t-SNE embedding on subset of the large vocabulary\n",
    "start, end = 1500, 2000\n",
    "vis_data = bh_sne(vectors[start:end])\n",
    "words = glove_model.index2word[start:end]"
   ]
  },
  {
   "cell_type": "code",
   "execution_count": 11,
   "metadata": {},
   "outputs": [],
   "source": [
    "# plot the result\n",
    "vis_x = vis_data[:, 0]\n",
    "vis_y = vis_data[:, 1]\n",
    "\n",
    "output_file(\"glove_tsne.html\")\n",
    "source = ColumnDataSource(data=dict(\n",
    "    x= vis_data[:, 0],\n",
    "    y= vis_data[:, 1],\n",
    "    desc= words ,\n",
    "))\n",
    "\n",
    "hover = HoverTool(tooltips=[\n",
    "    (\"word\", \"@desc\"),\n",
    "])\n",
    "\n",
    "p = figure(plot_width=800, plot_height=800, tools=[hover,\"wheel_zoom\"],\n",
    "           title=\"Glove Tsne\")\n",
    "\n",
    "p.circle('x', 'y', size=20, source=source)\n",
    "show(p)"
   ]
  },
  {
   "cell_type": "code",
   "execution_count": null,
   "metadata": {},
   "outputs": [],
   "source": []
  }
 ],
 "metadata": {
  "kernelspec": {
   "display_name": "Python 3",
   "language": "python",
   "name": "python3"
  },
  "language_info": {
   "codemirror_mode": {
    "name": "ipython",
    "version": 3
   },
   "file_extension": ".py",
   "mimetype": "text/x-python",
   "name": "python",
   "nbconvert_exporter": "python",
   "pygments_lexer": "ipython3",
   "version": "3.6.7"
  }
 },
 "nbformat": 4,
 "nbformat_minor": 2
}
